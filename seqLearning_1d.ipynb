{
  "nbformat": 4,
  "nbformat_minor": 0,
  "metadata": {
    "colab": {
      "name": "seqLearning_1d.ipynb",
      "provenance": [],
      "collapsed_sections": [],
      "authorship_tag": "ABX9TyPjCPax+ZYqRbyanc/f7ju7",
      "include_colab_link": true
    },
    "kernelspec": {
      "name": "python3",
      "display_name": "Python 3"
    }
  },
  "cells": [
    {
      "cell_type": "markdown",
      "metadata": {
        "id": "view-in-github",
        "colab_type": "text"
      },
      "source": [
        "<a href=\"https://colab.research.google.com/github/kochoravi/seq2seq/blob/master/seqLearning_1d.ipynb\" target=\"_parent\"><img src=\"https://colab.research.google.com/assets/colab-badge.svg\" alt=\"Open In Colab\"/></a>"
      ]
    },
    {
      "cell_type": "code",
      "metadata": {
        "id": "je0NpOVecBVg",
        "colab_type": "code",
        "colab": {
          "base_uri": "https://localhost:8080/",
          "height": 479
        },
        "outputId": "b3ef0013-199b-410e-e7b9-c9f0953375fa"
      },
      "source": [
        "# Python ≥3.5 is required\n",
        "import sys\n",
        "assert sys.version_info >= (3, 5)\n",
        "\n",
        "# Scikit-Learn ≥0.20 is required\n",
        "import sklearn\n",
        "assert sklearn.__version__ >= \"0.20\"\n",
        "\n",
        "try:\n",
        "    # %tensorflow_version only exists in Colab.\n",
        "    %tensorflow_version 2.x\n",
        "    IS_COLAB = True\n",
        "except Exception:\n",
        "    IS_COLAB = False\n",
        "\n",
        "# TensorFlow ≥2.0 is required\n",
        "import tensorflow as tf\n",
        "from tensorflow import keras\n",
        "assert tf.__version__ >= \"2.0\"\n",
        "\n",
        "if not tf.test.is_gpu_available():\n",
        "    print(\"No GPU was detected. LSTMs and CNNs can be very slow without a GPU.\")\n",
        "    if IS_COLAB:\n",
        "        print(\"Go to Runtime > Change runtime and select a GPU hardware accelerator.\")\n",
        "\n",
        "# Common imports\n",
        "import numpy as np\n",
        "import os\n",
        "\n",
        "# to make this notebook's output stable across runs\n",
        "np.random.seed(42)\n",
        "tf.random.set_seed(42)\n",
        "\n",
        "# To plot pretty figures\n",
        "%matplotlib inline\n",
        "import matplotlib as mpl\n",
        "import matplotlib.pyplot as plt\n",
        "\n",
        "!pip install yfinance\n",
        "import yfinance as yf  \n",
        "import pandas as pd"
      ],
      "execution_count": 1,
      "outputs": [
        {
          "output_type": "stream",
          "text": [
            "TensorFlow 2.x selected.\n",
            "WARNING:tensorflow:From <ipython-input-1-fb2bbc206f54>:20: is_gpu_available (from tensorflow.python.framework.test_util) is deprecated and will be removed in a future version.\n",
            "Instructions for updating:\n",
            "Use `tf.config.list_physical_devices('GPU')` instead.\n",
            "No GPU was detected. LSTMs and CNNs can be very slow without a GPU.\n",
            "Go to Runtime > Change runtime and select a GPU hardware accelerator.\n",
            "Collecting yfinance\n",
            "  Downloading https://files.pythonhosted.org/packages/c2/31/8b374a12b90def92a4e27d0fc595fc43635f395984e36a075244d98bd265/yfinance-0.1.54.tar.gz\n",
            "Requirement already satisfied: pandas>=0.24 in /usr/local/lib/python3.6/dist-packages (from yfinance) (0.25.3)\n",
            "Requirement already satisfied: numpy>=1.15 in /tensorflow-2.1.0/python3.6 (from yfinance) (1.18.1)\n",
            "Requirement already satisfied: requests>=2.20 in /tensorflow-2.1.0/python3.6 (from yfinance) (2.23.0)\n",
            "Requirement already satisfied: multitasking>=0.0.7 in /usr/local/lib/python3.6/dist-packages (from yfinance) (0.0.9)\n",
            "Requirement already satisfied: pytz>=2017.2 in /usr/local/lib/python3.6/dist-packages (from pandas>=0.24->yfinance) (2018.9)\n",
            "Requirement already satisfied: python-dateutil>=2.6.1 in /usr/local/lib/python3.6/dist-packages (from pandas>=0.24->yfinance) (2.6.1)\n",
            "Requirement already satisfied: chardet<4,>=3.0.2 in /tensorflow-2.1.0/python3.6 (from requests>=2.20->yfinance) (3.0.4)\n",
            "Requirement already satisfied: certifi>=2017.4.17 in /tensorflow-2.1.0/python3.6 (from requests>=2.20->yfinance) (2019.11.28)\n",
            "Requirement already satisfied: idna<3,>=2.5 in /tensorflow-2.1.0/python3.6 (from requests>=2.20->yfinance) (2.9)\n",
            "Requirement already satisfied: urllib3!=1.25.0,!=1.25.1,<1.26,>=1.21.1 in /tensorflow-2.1.0/python3.6 (from requests>=2.20->yfinance) (1.25.8)\n",
            "Requirement already satisfied: six>=1.5 in /tensorflow-2.1.0/python3.6 (from python-dateutil>=2.6.1->pandas>=0.24->yfinance) (1.14.0)\n",
            "Building wheels for collected packages: yfinance\n",
            "  Building wheel for yfinance (setup.py) ... \u001b[?25l\u001b[?25hdone\n",
            "  Created wheel for yfinance: filename=yfinance-0.1.54-py2.py3-none-any.whl size=22409 sha256=b37eb9a5a24a795de27ace6b4e043b025d8cdc4cadae6306d07ae964f191f4b9\n",
            "  Stored in directory: /root/.cache/pip/wheels/f9/e3/5b/ec24dd2984b12d61e0abf26289746c2436a0e7844f26f2515c\n",
            "Successfully built yfinance\n",
            "Installing collected packages: yfinance\n",
            "Successfully installed yfinance-0.1.54\n"
          ],
          "name": "stdout"
        }
      ]
    },
    {
      "cell_type": "code",
      "metadata": {
        "id": "DrPclnehcCU_",
        "colab_type": "code",
        "colab": {
          "base_uri": "https://localhost:8080/",
          "height": 34
        },
        "outputId": "6ebd217d-fa65-4895-e80e-afb733e73ffc"
      },
      "source": [
        "data = yf.download('AAPL','2016-01-01','2020-06-03')\n",
        "dlen =  len(data)\n",
        "optrain, opvalid, optest = data[\"Open\"][:round((dlen)*.8)], data[\"Open\"][round((dlen)*.8)+1: round((dlen)*.9)], data[\"Open\"][round((dlen)*.9)+1:]"
      ],
      "execution_count": 2,
      "outputs": [
        {
          "output_type": "stream",
          "text": [
            "\r[*********************100%***********************]  1 of 1 completed\n"
          ],
          "name": "stdout"
        }
      ]
    },
    {
      "cell_type": "code",
      "metadata": {
        "id": "clsGl5KIcYgt",
        "colab_type": "code",
        "colab": {
          "base_uri": "https://localhost:8080/",
          "height": 34
        },
        "outputId": "f80e90e5-cf08-4bc5-aa9e-05d1e1316ecb"
      },
      "source": [
        "optrain.shape"
      ],
      "execution_count": 11,
      "outputs": [
        {
          "output_type": "execute_result",
          "data": {
            "text/plain": [
              "(841,)"
            ]
          },
          "metadata": {
            "tags": []
          },
          "execution_count": 11
        }
      ]
    },
    {
      "cell_type": "code",
      "metadata": {
        "id": "pzpHNCNEeRRg",
        "colab_type": "code",
        "colab": {}
      },
      "source": [
        "trainingvalues = optrain.values.reshape(-1,1)"
      ],
      "execution_count": 0,
      "outputs": []
    },
    {
      "cell_type": "code",
      "metadata": {
        "id": "KzPSOXK_eVdt",
        "colab_type": "code",
        "colab": {
          "base_uri": "https://localhost:8080/",
          "height": 34
        },
        "outputId": "2dfd5216-23d5-4f67-8f02-cb7230b445bc"
      },
      "source": [
        "trainingvalues.shape"
      ],
      "execution_count": 19,
      "outputs": [
        {
          "output_type": "execute_result",
          "data": {
            "text/plain": [
              "(841, 1)"
            ]
          },
          "metadata": {
            "tags": []
          },
          "execution_count": 19
        }
      ]
    },
    {
      "cell_type": "code",
      "metadata": {
        "id": "I2kndUMOeHRU",
        "colab_type": "code",
        "colab": {}
      },
      "source": [
        "from sklearn.preprocessing import MinMaxScaler\n",
        "sc = MinMaxScaler(feature_range = (0.00001, .99))\n",
        "# sc = StandardScaler()\n",
        "training_set_scaled = sc.fit_transform(trainingvalues) "
      ],
      "execution_count": 0,
      "outputs": []
    },
    {
      "cell_type": "code",
      "metadata": {
        "id": "WAkbLJqib3ct",
        "colab_type": "code",
        "colab": {
          "base_uri": "https://localhost:8080/",
          "height": 34
        },
        "outputId": "ec7bd5d6-8ea2-4247-ae29-9c1978bbb8e1"
      },
      "source": [
        "# training_set_scaled = stoptrain.values.reshape(-1,1)\n",
        "training_set_scaled.shape"
      ],
      "execution_count": 91,
      "outputs": [
        {
          "output_type": "execute_result",
          "data": {
            "text/plain": [
              "(841, 1)"
            ]
          },
          "metadata": {
            "tags": []
          },
          "execution_count": 91
        }
      ]
    },
    {
      "cell_type": "code",
      "metadata": {
        "id": "rz-4X9NmcqC8",
        "colab_type": "code",
        "colab": {
          "base_uri": "https://localhost:8080/",
          "height": 34
        },
        "outputId": "cdc88825-1a98-4a96-de93-407d445d7e59"
      },
      "source": [
        "len(optrainvals)"
      ],
      "execution_count": 92,
      "outputs": [
        {
          "output_type": "execute_result",
          "data": {
            "text/plain": [
              "841"
            ]
          },
          "metadata": {
            "tags": []
          },
          "execution_count": 92
        }
      ]
    },
    {
      "cell_type": "code",
      "metadata": {
        "id": "5ZrMKZ20clni",
        "colab_type": "code",
        "colab": {}
      },
      "source": [
        "# Creating a data structure with 60 timesteps and 1 output\n",
        "X_train = []\n",
        "Y_train = []\n",
        "window_size=60\n",
        "tlen=len(optrainvals)\n",
        "for i in range(window_size, tlen):\n",
        "    X_train.append(training_set_scaled[i-window_size:i, 0])\n",
        "    Y_train.append(training_set_scaled[i, 0])\n",
        "X_train, Y_train = np.array(X_train), np.array(Y_train)\n",
        "\n",
        "# Reshaping\n",
        "# X_train = np.reshape(X_train, (X_train.shape[0], X_train.shape[1], 1))\n",
        "X_train = X_train.reshape(X_train.shape[0], X_train.shape[1],-1)\n",
        "Y_train=Y_train.reshape(-1,1)\n"
      ],
      "execution_count": 0,
      "outputs": []
    },
    {
      "cell_type": "code",
      "metadata": {
        "id": "nGwFbBj5o9WZ",
        "colab_type": "code",
        "colab": {
          "base_uri": "https://localhost:8080/",
          "height": 34
        },
        "outputId": "123351cd-b8df-4799-a240-e0ebdaccf4e0"
      },
      "source": [
        "X_train.shape"
      ],
      "execution_count": 94,
      "outputs": [
        {
          "output_type": "execute_result",
          "data": {
            "text/plain": [
              "(781, 60, 1)"
            ]
          },
          "metadata": {
            "tags": []
          },
          "execution_count": 94
        }
      ]
    },
    {
      "cell_type": "code",
      "metadata": {
        "id": "QFaoI6gyqhLN",
        "colab_type": "code",
        "colab": {
          "base_uri": "https://localhost:8080/",
          "height": 34
        },
        "outputId": "2026f67f-e8fe-4291-b7be-92a10d16facf"
      },
      "source": [
        "Y_train.shape"
      ],
      "execution_count": 96,
      "outputs": [
        {
          "output_type": "execute_result",
          "data": {
            "text/plain": [
              "(781, 1)"
            ]
          },
          "metadata": {
            "tags": []
          },
          "execution_count": 96
        }
      ]
    },
    {
      "cell_type": "code",
      "metadata": {
        "id": "6vUlk2UOnpBi",
        "colab_type": "code",
        "colab": {}
      },
      "source": [
        "# X_new, Y_new = series[:, :n_steps], series[:, n_steps:]\n",
        "# X = X_new\n",
        "# for step_ahead in range(10):\n",
        "#     y_pred_one = model.predict(X[:, step_ahead:])[:, np.newaxis, :]\n",
        "#     X = np.concatenate([X, y_pred_one], axis=1)\n",
        "\n",
        "# Y_pred = X[:, n_steps:]"
      ],
      "execution_count": 0,
      "outputs": []
    },
    {
      "cell_type": "code",
      "metadata": {
        "id": "ToQbhrsngMzB",
        "colab_type": "code",
        "colab": {}
      },
      "source": [
        "X_t, X_v = X_train[:700], X_train[700:]\n",
        "Y_t, Y_v = Y_train[:700], Y_train[700:]"
      ],
      "execution_count": 0,
      "outputs": []
    },
    {
      "cell_type": "code",
      "metadata": {
        "id": "wYC-olGGhXi4",
        "colab_type": "code",
        "colab": {
          "base_uri": "https://localhost:8080/",
          "height": 34
        },
        "outputId": "83ee4491-8cdf-4f33-dedb-f9f2710e67ed"
      },
      "source": [
        "X_t.shape"
      ],
      "execution_count": 123,
      "outputs": [
        {
          "output_type": "execute_result",
          "data": {
            "text/plain": [
              "(700, 60, 1)"
            ]
          },
          "metadata": {
            "tags": []
          },
          "execution_count": 123
        }
      ]
    },
    {
      "cell_type": "code",
      "metadata": {
        "id": "RX3veFtqqzsM",
        "colab_type": "code",
        "colab": {
          "base_uri": "https://localhost:8080/",
          "height": 34
        },
        "outputId": "d8c4eaa4-7a54-4852-f134-ef69799b205e"
      },
      "source": [
        "Y_v.shape"
      ],
      "execution_count": 124,
      "outputs": [
        {
          "output_type": "execute_result",
          "data": {
            "text/plain": [
              "(81, 1)"
            ]
          },
          "metadata": {
            "tags": []
          },
          "execution_count": 124
        }
      ]
    },
    {
      "cell_type": "code",
      "metadata": {
        "id": "RS6itki0gEFA",
        "colab_type": "code",
        "colab": {
          "base_uri": "https://localhost:8080/",
          "height": 714
        },
        "outputId": "13221573-8be3-473a-812b-bc35305e0cec"
      },
      "source": [
        "np.random.seed(42)\n",
        "tf.random.set_seed(42)\n",
        "\n",
        "# model = keras.models.Sequential([\n",
        "#     keras.layers.SimpleRNN(1, input_shape=[None, 1])\n",
        "# ])\n",
        "\n",
        "model = keras.models.Sequential([\n",
        "    keras.layers.SimpleRNN(20, return_sequences=True, input_shape=[None, 1]),\n",
        "    keras.layers.SimpleRNN(20, return_sequences=True),\n",
        "    keras.layers.SimpleRNN(1)\n",
        "])\n",
        "\n",
        "optimizer = keras.optimizers.Adam(lr=0.005)\n",
        "model.compile(loss=\"mse\", optimizer=optimizer)\n",
        "history = model.fit(X_t, Y_t, epochs=20,\n",
        "                    validation_data=(X_v, Y_v))"
      ],
      "execution_count": 125,
      "outputs": [
        {
          "output_type": "stream",
          "text": [
            "Train on 700 samples, validate on 81 samples\n",
            "Epoch 1/20\n",
            "700/700 [==============================] - 3s 4ms/sample - loss: 0.2494 - val_loss: 0.0373\n",
            "Epoch 2/20\n",
            "700/700 [==============================] - 1s 1ms/sample - loss: 0.0267 - val_loss: 0.0080\n",
            "Epoch 3/20\n",
            "700/700 [==============================] - 1s 1ms/sample - loss: 0.0063 - val_loss: 0.0069\n",
            "Epoch 4/20\n",
            "700/700 [==============================] - 1s 1ms/sample - loss: 0.0049 - val_loss: 0.0068\n",
            "Epoch 5/20\n",
            "700/700 [==============================] - 1s 1ms/sample - loss: 0.0047 - val_loss: 0.0065\n",
            "Epoch 6/20\n",
            "700/700 [==============================] - 1s 1ms/sample - loss: 0.0039 - val_loss: 0.0057\n",
            "Epoch 7/20\n",
            "700/700 [==============================] - 1s 1ms/sample - loss: 0.0031 - val_loss: 0.0054\n",
            "Epoch 8/20\n",
            "700/700 [==============================] - 1s 1ms/sample - loss: 0.0029 - val_loss: 0.0051\n",
            "Epoch 9/20\n",
            "700/700 [==============================] - 1s 1ms/sample - loss: 0.0032 - val_loss: 0.0045\n",
            "Epoch 10/20\n",
            "700/700 [==============================] - 1s 1ms/sample - loss: 0.0025 - val_loss: 0.0042\n",
            "Epoch 11/20\n",
            "700/700 [==============================] - 1s 1ms/sample - loss: 0.0023 - val_loss: 0.0044\n",
            "Epoch 12/20\n",
            "700/700 [==============================] - 1s 1ms/sample - loss: 0.0026 - val_loss: 0.0038\n",
            "Epoch 13/20\n",
            "700/700 [==============================] - 1s 1ms/sample - loss: 0.0025 - val_loss: 0.0039\n",
            "Epoch 14/20\n",
            "700/700 [==============================] - 1s 1ms/sample - loss: 0.0019 - val_loss: 0.0030\n",
            "Epoch 15/20\n",
            "700/700 [==============================] - 1s 1ms/sample - loss: 0.0019 - val_loss: 0.0027\n",
            "Epoch 16/20\n",
            "700/700 [==============================] - 1s 1ms/sample - loss: 0.0015 - val_loss: 0.0025\n",
            "Epoch 17/20\n",
            "700/700 [==============================] - 1s 1ms/sample - loss: 0.0017 - val_loss: 0.0029\n",
            "Epoch 18/20\n",
            "700/700 [==============================] - 1s 1ms/sample - loss: 0.0031 - val_loss: 0.0019\n",
            "Epoch 19/20\n",
            "700/700 [==============================] - 1s 1ms/sample - loss: 0.0027 - val_loss: 0.0022\n",
            "Epoch 20/20\n",
            "700/700 [==============================] - 1s 1ms/sample - loss: 0.0015 - val_loss: 0.0015\n"
          ],
          "name": "stdout"
        }
      ]
    },
    {
      "cell_type": "code",
      "metadata": {
        "id": "Wb2ep84M3K4m",
        "colab_type": "code",
        "colab": {
          "base_uri": "https://localhost:8080/",
          "height": 255
        },
        "outputId": "d1dbf3e2-fc6f-4712-c79b-ec3379eabfef"
      },
      "source": [
        "model.summary()"
      ],
      "execution_count": 128,
      "outputs": [
        {
          "output_type": "stream",
          "text": [
            "Model: \"sequential_6\"\n",
            "_________________________________________________________________\n",
            "Layer (type)                 Output Shape              Param #   \n",
            "=================================================================\n",
            "simple_rnn_13 (SimpleRNN)    (None, None, 20)          440       \n",
            "_________________________________________________________________\n",
            "simple_rnn_14 (SimpleRNN)    (None, None, 20)          820       \n",
            "_________________________________________________________________\n",
            "simple_rnn_15 (SimpleRNN)    (None, 1)                 22        \n",
            "=================================================================\n",
            "Total params: 1,282\n",
            "Trainable params: 1,282\n",
            "Non-trainable params: 0\n",
            "_________________________________________________________________\n"
          ],
          "name": "stdout"
        }
      ]
    },
    {
      "cell_type": "code",
      "metadata": {
        "id": "_GhnBFHhfkdt",
        "colab_type": "code",
        "colab": {
          "base_uri": "https://localhost:8080/",
          "height": 51
        },
        "outputId": "1b6754be-a6f5-40f3-bd98-b044889e7528"
      },
      "source": [
        "model.evaluate(X_v, Y_v)"
      ],
      "execution_count": 101,
      "outputs": [
        {
          "output_type": "stream",
          "text": [
            "81/81 [==============================] - 0s 333us/sample - loss: 0.0015\n"
          ],
          "name": "stdout"
        },
        {
          "output_type": "execute_result",
          "data": {
            "text/plain": [
              "0.0014826537441910692"
            ]
          },
          "metadata": {
            "tags": []
          },
          "execution_count": 101
        }
      ]
    },
    {
      "cell_type": "code",
      "metadata": {
        "id": "s7MamYkxkrJ7",
        "colab_type": "code",
        "colab": {}
      },
      "source": [
        "y_pred = model.predict(X_v)\n"
      ],
      "execution_count": 0,
      "outputs": []
    },
    {
      "cell_type": "code",
      "metadata": {
        "id": "jPd940fCkuas",
        "colab_type": "code",
        "colab": {
          "base_uri": "https://localhost:8080/",
          "height": 34
        },
        "outputId": "a692037c-0f28-4842-ec1b-21c5e1fb896d"
      },
      "source": [
        "y_pred.shape"
      ],
      "execution_count": 103,
      "outputs": [
        {
          "output_type": "execute_result",
          "data": {
            "text/plain": [
              "(81, 1)"
            ]
          },
          "metadata": {
            "tags": []
          },
          "execution_count": 103
        }
      ]
    },
    {
      "cell_type": "code",
      "metadata": {
        "id": "zQjs8j3clDLj",
        "colab_type": "code",
        "colab": {
          "base_uri": "https://localhost:8080/",
          "height": 265
        },
        "outputId": "1e75e58e-77e0-46c6-9eed-2d92ef1b4b1b"
      },
      "source": [
        "plt.plot(X_v[1, :, 0])\n",
        "plt.plot(window_size, Y_v[1], 'ro', label = \"actual\")\n",
        "plt.plot(window_size, y_pred[1], 'bx', label = \"predicted\")\n",
        "plt.legend(fontsize=14)\n",
        "plt.grid(True)\n",
        "plt.show()"
      ],
      "execution_count": 106,
      "outputs": [
        {
          "output_type": "display_data",
          "data": {
            "image/png": "[encoded data removed]",
            "text/plain": [
              "<Figure size 432x288 with 1 Axes>"
            ]
          },
          "metadata": {
            "tags": []
          }
        }
      ]
    },
    {
      "cell_type": "code",
      "metadata": {
        "id": "lqKmHyjHimGs",
        "colab_type": "code",
        "colab": {
          "base_uri": "https://localhost:8080/",
          "height": 283
        },
        "outputId": "8d5ae0bd-06c8-4e95-c678-e2955fe1ee86"
      },
      "source": [
        "def plot_learning_curves(loss, val_loss):\n",
        "    plt.plot(np.arange(len(loss)) + 0.5, loss, \"b.-\", label=\"Training loss\")\n",
        "    plt.plot(np.arange(len(val_loss)) + 1, val_loss, \"r.-\", label=\"Validation loss\")\n",
        "    plt.gca().xaxis.set_major_locator(mpl.ticker.MaxNLocator(integer=True))\n",
        "    plt.axis([1, 20, 0, 0.05])\n",
        "    plt.legend(fontsize=14)\n",
        "    plt.xlabel(\"Epochs\")\n",
        "    plt.ylabel(\"Loss\")\n",
        "    plt.grid(True)\n",
        "plot_learning_curves(history.history[\"loss\"], history.history[\"val_loss\"])\n",
        "plt.show()"
      ],
      "execution_count": 57,
      "outputs": [
        {
          "output_type": "display_data",
          "data": {
            "image/png": "[encoded data removed]",
            "text/plain": [
              "<Figure size 432x288 with 1 Axes>"
            ]
          },
          "metadata": {
            "tags": []
          }
        }
      ]
    },
    {
      "cell_type": "markdown",
      "metadata": {
        "id": "J4jv2dWKrLx1",
        "colab_type": "text"
      },
      "source": [
        "predict 10 steps ahead"
      ]
    },
    {
      "cell_type": "code",
      "metadata": {
        "id": "GtSvIMphrY6E",
        "colab_type": "code",
        "colab": {
          "base_uri": "https://localhost:8080/",
          "height": 34
        },
        "outputId": "a14f6be2-0931-4284-b37a-a6a20b3a0d52"
      },
      "source": [
        "Y_t.shape"
      ],
      "execution_count": 110,
      "outputs": [
        {
          "output_type": "execute_result",
          "data": {
            "text/plain": [
              "(700, 1)"
            ]
          },
          "metadata": {
            "tags": []
          },
          "execution_count": 110
        }
      ]
    },
    {
      "cell_type": "markdown",
      "metadata": {
        "colab_type": "text",
        "id": "A5eJhR4PrZms"
      },
      "source": [
        "Now let's create an RNN that predicts all 10 next values at once:"
      ]
    },
    {
      "cell_type": "code",
      "metadata": {
        "id": "1fN_TkCLpq0n",
        "colab_type": "code",
        "colab": {}
      },
      "source": [
        "# Creating a data structure with 50 timesteps +10 prediction step and 1 output\n",
        "X_train = []\n",
        "Y_train = []\n",
        "window_size = 50\n",
        "pred_size = 10\n",
        "tlen=len(optrainvals)\n",
        "for i in range(window_size + pred_size, tlen):\n",
        "    X_train.append(training_set_scaled[i-(window_size + pred_size):(i-pred_size), 0])\n",
        "    Y_train.append(training_set_scaled[(i-pred_size):i, 0])\n",
        "X_train, Y_train = np.array(X_train), np.array(Y_train)\n",
        "\n",
        "# Reshaping since the rnns needs 3D vector of [nsample, timesteps = 50, nfeatures = 1]\n",
        "# X_train = np.reshape(X_train, (X_train.shape[0], X_train.shape[1], 1))\n",
        "X_train = X_train.reshape(X_train.shape[0], X_train.shape[1],-1)\n",
        "Y_train=Y_train.reshape(Y_train.shape[0], Y_train.shape[1],1)"
      ],
      "execution_count": 0,
      "outputs": []
    },
    {
      "cell_type": "code",
      "metadata": {
        "id": "GrlOBWAa2mvP",
        "colab_type": "code",
        "colab": {}
      },
      "source": [
        "X_t, X_v = X_train[:700], X_train[700:]\n",
        "Y_t, Y_v = Y_train[:700], Y_train[700:]"
      ],
      "execution_count": 0,
      "outputs": []
    },
    {
      "cell_type": "code",
      "metadata": {
        "id": "peP1P5dX2-cw",
        "colab_type": "code",
        "colab": {
          "base_uri": "https://localhost:8080/",
          "height": 34
        },
        "outputId": "07f2cc52-7d49-4969-ceef-070f717aa274"
      },
      "source": [
        "X_t.shape"
      ],
      "execution_count": 119,
      "outputs": [
        {
          "output_type": "execute_result",
          "data": {
            "text/plain": [
              "(700, 50, 1)"
            ]
          },
          "metadata": {
            "tags": []
          },
          "execution_count": 119
        }
      ]
    },
    {
      "cell_type": "code",
      "metadata": {
        "id": "GzzlBhBv3AVl",
        "colab_type": "code",
        "colab": {
          "base_uri": "https://localhost:8080/",
          "height": 34
        },
        "outputId": "6c54bc7b-02d0-4b0e-d694-e8a756c81569"
      },
      "source": [
        "Y_t.shape"
      ],
      "execution_count": 120,
      "outputs": [
        {
          "output_type": "execute_result",
          "data": {
            "text/plain": [
              "(700, 10, 1)"
            ]
          },
          "metadata": {
            "tags": []
          },
          "execution_count": 120
        }
      ]
    },
    {
      "cell_type": "markdown",
      "metadata": {
        "id": "0qrNQpsP2fDc",
        "colab_type": "text"
      },
      "source": [
        "Now let's create an RNN that predicts all 10 next values at once:"
      ]
    },
    {
      "cell_type": "code",
      "metadata": {
        "id": "90KIWrDfrHu8",
        "colab_type": "code",
        "colab": {
          "base_uri": "https://localhost:8080/",
          "height": 714
        },
        "outputId": "58cc3a81-39b5-47ab-dc58-7abda68ca321"
      },
      "source": [
        "np.random.seed(42)\n",
        "tf.random.set_seed(42)\n",
        "\n",
        "model = keras.models.Sequential([\n",
        "    keras.layers.SimpleRNN(20, return_sequences=True, input_shape=[None, 1]),\n",
        "    keras.layers.SimpleRNN(20),\n",
        "    keras.layers.Dense(10)\n",
        "])\n",
        "\n",
        "model.compile(loss=\"mse\", optimizer=\"adam\")\n",
        "history = model.fit(X_t, Y_t, epochs=20,\n",
        "                    validation_data=(X_v, Y_v))"
      ],
      "execution_count": 113,
      "outputs": [
        {
          "output_type": "stream",
          "text": [
            "Train on 700 samples, validate on 81 samples\n",
            "Epoch 1/20\n",
            "700/700 [==============================] - 2s 2ms/sample - loss: 0.1695 - val_loss: 0.1032\n",
            "Epoch 2/20\n",
            "700/700 [==============================] - 0s 603us/sample - loss: 0.0400 - val_loss: 0.0226\n",
            "Epoch 3/20\n",
            "700/700 [==============================] - 0s 610us/sample - loss: 0.0119 - val_loss: 0.0072\n",
            "Epoch 4/20\n",
            "700/700 [==============================] - 0s 604us/sample - loss: 0.0066 - val_loss: 0.0047\n",
            "Epoch 5/20\n",
            "700/700 [==============================] - 0s 617us/sample - loss: 0.0048 - val_loss: 0.0036\n",
            "Epoch 6/20\n",
            "700/700 [==============================] - 0s 600us/sample - loss: 0.0042 - val_loss: 0.0036\n",
            "Epoch 7/20\n",
            "700/700 [==============================] - 0s 573us/sample - loss: 0.0037 - val_loss: 0.0033\n",
            "Epoch 8/20\n",
            "700/700 [==============================] - 0s 578us/sample - loss: 0.0034 - val_loss: 0.0037\n",
            "Epoch 9/20\n",
            "700/700 [==============================] - 0s 577us/sample - loss: 0.0032 - val_loss: 0.0035\n",
            "Epoch 10/20\n",
            "700/700 [==============================] - 0s 565us/sample - loss: 0.0030 - val_loss: 0.0031\n",
            "Epoch 11/20\n",
            "700/700 [==============================] - 0s 585us/sample - loss: 0.0029 - val_loss: 0.0029\n",
            "Epoch 12/20\n",
            "700/700 [==============================] - 0s 569us/sample - loss: 0.0028 - val_loss: 0.0033\n",
            "Epoch 13/20\n",
            "700/700 [==============================] - 0s 578us/sample - loss: 0.0027 - val_loss: 0.0036\n",
            "Epoch 14/20\n",
            "700/700 [==============================] - 0s 602us/sample - loss: 0.0027 - val_loss: 0.0026\n",
            "Epoch 15/20\n",
            "700/700 [==============================] - 0s 595us/sample - loss: 0.0025 - val_loss: 0.0033\n",
            "Epoch 16/20\n",
            "700/700 [==============================] - 0s 587us/sample - loss: 0.0025 - val_loss: 0.0028\n",
            "Epoch 17/20\n",
            "700/700 [==============================] - 0s 586us/sample - loss: 0.0024 - val_loss: 0.0032\n",
            "Epoch 18/20\n",
            "700/700 [==============================] - 0s 594us/sample - loss: 0.0024 - val_loss: 0.0025\n",
            "Epoch 19/20\n",
            "700/700 [==============================] - 0s 604us/sample - loss: 0.0023 - val_loss: 0.0034\n",
            "Epoch 20/20\n",
            "700/700 [==============================] - 0s 608us/sample - loss: 0.0023 - val_loss: 0.0027\n"
          ],
          "name": "stdout"
        }
      ]
    },
    {
      "cell_type": "code",
      "metadata": {
        "id": "1gX0Q6bE2rjO",
        "colab_type": "code",
        "colab": {
          "base_uri": "https://localhost:8080/",
          "height": 255
        },
        "outputId": "e5c69497-3c16-421e-9f0e-f77fcf5b167d"
      },
      "source": [
        "model.summary()"
      ],
      "execution_count": 114,
      "outputs": [
        {
          "output_type": "stream",
          "text": [
            "Model: \"sequential_5\"\n",
            "_________________________________________________________________\n",
            "Layer (type)                 Output Shape              Param #   \n",
            "=================================================================\n",
            "simple_rnn_11 (SimpleRNN)    (None, None, 20)          440       \n",
            "_________________________________________________________________\n",
            "simple_rnn_12 (SimpleRNN)    (None, 20)                820       \n",
            "_________________________________________________________________\n",
            "dense_2 (Dense)              (None, 10)                210       \n",
            "=================================================================\n",
            "Total params: 1,470\n",
            "Trainable params: 1,470\n",
            "Non-trainable params: 0\n",
            "_________________________________________________________________\n"
          ],
          "name": "stdout"
        }
      ]
    },
    {
      "cell_type": "code",
      "metadata": {
        "id": "vmDlLEaZ0vUy",
        "colab_type": "code",
        "colab": {
          "base_uri": "https://localhost:8080/",
          "height": 283
        },
        "outputId": "0ec3c465-4483-4d17-c7b8-c962598b56b4"
      },
      "source": [
        "plot_learning_curves(history.history[\"loss\"], history.history[\"val_loss\"])\n",
        "plt.show()"
      ],
      "execution_count": 115,
      "outputs": [
        {
          "output_type": "display_data",
          "data": {
            "image/png": "[encoded data removed]",
            "text/plain": [
              "<Figure size 432x288 with 1 Axes>"
            ]
          },
          "metadata": {
            "tags": []
          }
        }
      ]
    },
    {
      "cell_type": "code",
      "metadata": {
        "id": "rHSSYbUDrH0b",
        "colab_type": "code",
        "colab": {}
      },
      "source": [
        "Y_pred = model.predict(X_v)[..., np.newaxis]"
      ],
      "execution_count": 0,
      "outputs": []
    },
    {
      "cell_type": "code",
      "metadata": {
        "id": "iX01MrOjrHyf",
        "colab_type": "code",
        "colab": {
          "base_uri": "https://localhost:8080/",
          "height": 34
        },
        "outputId": "88f9b823-5090-40b9-e70b-4d3ed3f340c9"
      },
      "source": [
        "Y_pred.shape"
      ],
      "execution_count": 117,
      "outputs": [
        {
          "output_type": "execute_result",
          "data": {
            "text/plain": [
              "(81, 10, 1)"
            ]
          },
          "metadata": {
            "tags": []
          },
          "execution_count": 117
        }
      ]
    },
    {
      "cell_type": "code",
      "metadata": {
        "id": "qH-549oNyXiK",
        "colab_type": "code",
        "colab": {
          "base_uri": "https://localhost:8080/",
          "height": 265
        },
        "outputId": "1b193de0-ff45-4f5a-f865-1cfbac5140ef"
      },
      "source": [
        "  plt.plot(X_v[1, :, 0])\n",
        "  plt.plot(np.arange(window_size, window_size + pred_size), Y_v[1, :, 0], \"ro-\", label=\"Actual\")\n",
        "  plt.plot(np.arange(window_size, window_size + pred_size), Y_pred[1, :, 0], \"bx-\", label=\"Forcast\")\n",
        "  plt.legend(fontsize=14)\n",
        "  plt.show()\n",
        "  # plt.plot(np.arange(n_steps, n_steps + ahead), Y[0, :, 0], \"ro-\", label=\"Actual\")\n"
      ],
      "execution_count": 118,
      "outputs": [
        {
          "output_type": "display_data",
          "data": {
            "image/png": "[encoded data removed]",
            "text/plain": [
              "<Figure size 432x288 with 1 Axes>"
            ]
          },
          "metadata": {
            "tags": []
          }
        }
      ]
    },
    {
      "cell_type": "code",
      "metadata": {
        "id": "iRLXiBt7byOQ",
        "colab_type": "code",
        "colab": {}
      },
      "source": [
        "from sklearn.preprocessing import MinMaxScaler\n",
        "sc = MinMaxScaler(feature_range = (0.00001, .99))\n",
        "# sc = StandardScaler()\n",
        "stoptrain = sc.fit_transform(optrainvals) "
      ],
      "execution_count": 0,
      "outputs": []
    },
    {
      "cell_type": "code",
      "metadata": {
        "id": "7xA6TofEbqIJ",
        "colab_type": "code",
        "colab": {}
      },
      "source": [
        "\n",
        "# opset = tf.data.Dataset.from_tensor_slices(stoptrain)\n",
        "opset = tf.data.Dataset.from_tensor_slices(stoptrain)\n",
        "n_steps = 100\n",
        "window_length = n_steps + 1 # target = input shifted 1 character ahead\n",
        "\n",
        "opset = opset.repeat().window(window_length, shift=1, drop_remainder=True)\n",
        "opset = opset.flat_map(lambda window: window.batch(window_length))\n",
        "\n",
        "np.random.seed(42)\n",
        "tf.random.set_seed(42)\n",
        "batch_size = 32\n",
        "\n",
        "opset = opset.shuffle(100000).map(lambda window: (window[:-1], window[1:]))\n",
        "opset = opset.batch(batch_size).prefetch(1)\n",
        "# for index, (X_batch, Y_batch) in enumerate(opset.take(3)):\n",
        "#     print(\"_\" * 20, \"Batch\", index, \"\\nX_batch\")\n",
        "#     print(X_batch.numpy())\n",
        "#     print(\"=\" * 5, \"\\nY_batch\")\n",
        "#     print(Y_batch.numpy())"
      ],
      "execution_count": 0,
      "outputs": []
    }
  ]
}